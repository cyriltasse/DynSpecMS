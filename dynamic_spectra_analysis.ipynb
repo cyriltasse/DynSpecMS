{
 "cells": [
  {
   "cell_type": "code",
   "execution_count": null,
   "metadata": {},
   "outputs": [],
   "source": [
    "from astropy.io import fits\n",
    "from astropy.wcs import WCS\n",
    "import matplotlib.pyplot as plt\n",
    "import numpy as np\n",
    "from astropy import units as u\n",
    "\n",
    "from matplotlib.backends.backend_pdf import PdfPages\n",
    "from matplotlib import patches\n",
    "from matplotlib.patches import Ellipse\n",
    "from decimal import Decimal"
   ]
  },
  {
   "cell_type": "code",
   "execution_count": null,
   "metadata": {},
   "outputs": [],
   "source": [
    "plt.rcParams['font.size'] = 7"
   ]
  },
  {
   "cell_type": "code",
   "execution_count": null,
   "metadata": {},
   "outputs": [],
   "source": [
    "target = '~/Downloads/MSName_RandChunk0_DynSpecs_1556208112/TARGET/1556208112_14:29:42.950_-62:40:46.200.fits'\n",
    "target_w = '~/Downloads/MSName_RandChunk0_DynSpecs_1556208112/TARGET_W/1556208112_14:29:42.950_-62:40:46.200.W.fits'\n",
    "target_w2 = '~/Downloads/MSName_RandChunk0_DynSpecs_1556208112/TARGET_W/1556208112_14:29:42.950_-62:40:46.200.W2.fits'\n",
    "\n",
    "target_hdu = fits.open(target)[0]\n",
    "target_w_hdu = fits.open(target_w)[0]\n",
    "target_w2_hdu = fits.open(target_w2)[0]\n",
    "\n",
    "data = target_hdu.data\n",
    "weights = target_w_hdu.data\n",
    "weights2 = target_w2_hdu.data\n",
    "\n",
    "header = target_hdu.header"
   ]
  },
  {
   "cell_type": "code",
   "execution_count": null,
   "metadata": {},
   "outputs": [],
   "source": [
    "# Loop over the items and print each one\n",
    "for keyword in header:\n",
    "#     print(f'{keyword} = {header[keyword]}')\n",
    "    frq_min = header['FRQ-MIN'] * 1e-6\n",
    "    frq_max = header['FRQ-MAX'] * 1e-6\n",
    "    tmin = 0\n",
    "    tmax = data.shape[2] * header['CDELT1']"
   ]
  },
  {
   "cell_type": "code",
   "execution_count": null,
   "metadata": {},
   "outputs": [],
   "source": [
    "weights_data = np.where(weights==0,1, weights)\n",
    "weights_data2 = np.where(weights2==0,1, weights2)\n",
    "\n",
    "sigma_inv = np.sqrt(np.power(weights_data, 2) / weights_data2)\n",
    "\n",
    "for i in range(data.shape[0]):\n",
    "    #data[i, :, :] = data[i, :, :] * norm_w * np.cbrt(data[i, :, :])\n",
    "    data[i, :, :] = data[i, :, :] * sigma_inv\n",
    "\n",
    "print('--- Data has shape ---')\n",
    "print('(stokes, freq, time)')\n",
    "print(data.shape)"
   ]
  },
  {
   "cell_type": "code",
   "execution_count": null,
   "metadata": {},
   "outputs": [],
   "source": [
    "stokes_idx = 0\n",
    "d = data[stokes_idx, :, :]\n",
    "extent=[tmin, tmax, frq_min, frq_max]\n",
    "plt.imshow(d, origin='lower', cmap='viridis', aspect='auto', vmin=np.min(d), vmax=np.max(d), extent=extent)\n",
    "plt.title('Dynamic Spectrum of total intensity (Stokes I)')\n",
    "plt.xlabel('time (s)')\n",
    "plt.ylabel(r'$\\nu$ (MHz)')\n",
    "cbar_t = plt.colorbar(pad=.07)\n",
    "cbar_t.set_label(r'$mJy/B$', size=7)"
   ]
  },
  {
   "cell_type": "markdown",
   "metadata": {},
   "source": [
    "# Stokes I, Q, U, V Plotted in order below\n",
    "```python\n",
    "I = data[0, :, :]\n",
    "Q = data[1, :, :]\n",
    "U = data[2, :, :]\n",
    "V = data[3, :, :]\n",
    "```\n",
    "\n",
    "For now, we slice the time (t0, t1):\n",
    "```sh\n",
    "6325, 6345\n",
    "12953, 12993\n",
    "19803, 19843\n",
    "```"
   ]
  },
  {
   "cell_type": "code",
   "execution_count": null,
   "metadata": {},
   "outputs": [],
   "source": [
    "def get_spectral_features(s, t0, t1):\n",
    "    data_sl = data[s, :, t0:t1]\n",
    "    t = []\n",
    "    if not np.max(data_sl) == 0:\n",
    "        t.append(t0)\n",
    "        print(\"Flaring from {} to {} seconds\".format(t0, t1))\n",
    "    return"
   ]
  },
  {
   "cell_type": "code",
   "execution_count": null,
   "metadata": {},
   "outputs": [],
   "source": [
    "def plot_stokes(stokes_symbol, stokes_idx, t0, t1):\n",
    "    \"\"\"Plot dynamic spectra for given data array and Stokes param\n",
    "    \n",
    "    Parameters\n",
    "    ----------\n",
    "    stokes_symbol: str\n",
    "        Stokes parameter of interest mapped ('I', 'Q', 'U', 'V')\n",
    "    stokes_idx: int\n",
    "        Stokes parameter of interest mapped ('I', 'Q', 'U', 'V')->(0, 1, 2, 3)\n",
    "    t0: int\n",
    "        `start_time` to zoom-in on\n",
    "    t1: int\n",
    "        `end_time to` zoom-in on\n",
    "    \"\"\"\n",
    "    data_sl = data[stokes_idx, :, t0:t1]\n",
    "    print(\"--- Stats for Stokes {} ---\".format(stokes_symbol))\n",
    "    print(\"----Slicing throug time axis from {} to {} seconds after start of observation\".format(t0, t1))\n",
    "    print(\"Min: \", np.min(data_sl))\n",
    "    print(\"Max: \", np.max(data_sl))\n",
    "    print(\"Noise: \", np.std(data_sl))\n",
    "    print(\"Mean: \", np.mean(data_sl))\n",
    "    #print(np.argmax(d[stokes_idx, :, :]))\n",
    "\n",
    "    # Plot\n",
    "    extent = [t0, t1, frq_min, frq_max]\n",
    "    plt.title(stokes_symbol)\n",
    "    plt.imshow(data_sl, origin='lower', cmap='viridis', aspect='auto', vmin=np.min(data_sl), vmax=np.max(data_sl), extent=extent)\n",
    "    plt.xlabel('time (s)')\n",
    "    plt.ylabel(r'$\\nu$ (MHz)')\n",
    "    cbar = plt.colorbar(pad=.07)\n",
    "    cbar.set_label(r'$mJy/B$', size=7)"
   ]
  },
  {
   "cell_type": "code",
   "execution_count": null,
   "metadata": {},
   "outputs": [],
   "source": [
    "for i in range(0, data.shape[2], 20):\n",
    "    t0, t1 = i, i+20\n",
    "    get_spectral_features(0, t0, t1)"
   ]
  },
  {
   "cell_type": "markdown",
   "metadata": {},
   "source": [
    "Flaring events every 35 minutes that repeat every 20 seconds"
   ]
  },
  {
   "cell_type": "code",
   "execution_count": null,
   "metadata": {},
   "outputs": [],
   "source": [
    "(19820-17440)/60"
   ]
  },
  {
   "cell_type": "code",
   "execution_count": null,
   "metadata": {},
   "outputs": [],
   "source": [
    "plot_stokes('Stokes I', 0, 0, 40)"
   ]
  },
  {
   "cell_type": "code",
   "execution_count": null,
   "metadata": {},
   "outputs": [],
   "source": [
    "# plot_stokes(data, 'Stokes I', 0, 12953, 12993)"
   ]
  },
  {
   "cell_type": "code",
   "execution_count": null,
   "metadata": {},
   "outputs": [],
   "source": [
    "# plot_stokes(data, 'Stokes I', 0, 19803, 19843)"
   ]
  },
  {
   "cell_type": "code",
   "execution_count": null,
   "metadata": {},
   "outputs": [],
   "source": [
    "# plot_stokes(data, 'Stokes I', 0, 19803, 19843)"
   ]
  },
  {
   "cell_type": "code",
   "execution_count": null,
   "metadata": {},
   "outputs": [],
   "source": [
    "# plot_stokes(data, 'Stokes Q', 1, 19803, 19843)"
   ]
  },
  {
   "cell_type": "code",
   "execution_count": null,
   "metadata": {},
   "outputs": [],
   "source": [
    "# plot_stokes(data, 'Stokes U', 2, 19803, 19843)"
   ]
  },
  {
   "cell_type": "code",
   "execution_count": null,
   "metadata": {},
   "outputs": [],
   "source": [
    "# plot_stokes(data, 'Stokes V', 3, 19803, 19843)"
   ]
  },
  {
   "cell_type": "markdown",
   "metadata": {},
   "source": [
    "### During Fast Imaging meeting\n",
    "Oleg advised I try this\n",
    "``` sh\n",
    "pip install owlcat\n",
    "plot-evelation-tracks.py <MS>\n",
    "```\n",
    "This will help us determine if the features we see were during the duty cycle of the target source"
   ]
  },
  {
   "cell_type": "markdown",
   "metadata": {},
   "source": [
    "![](lst-elev.png)"
   ]
  },
  {
   "cell_type": "code",
   "execution_count": null,
   "metadata": {},
   "outputs": [],
   "source": []
  }
 ],
 "metadata": {
  "kernelspec": {
   "display_name": "Python 3 (ipykernel)",
   "language": "python",
   "name": "python3"
  },
  "language_info": {
   "codemirror_mode": {
    "name": "ipython",
    "version": 3
   },
   "file_extension": ".py",
   "mimetype": "text/x-python",
   "name": "python",
   "nbconvert_exporter": "python",
   "pygments_lexer": "ipython3",
   "version": "3.8.10"
  }
 },
 "nbformat": 4,
 "nbformat_minor": 2
}
